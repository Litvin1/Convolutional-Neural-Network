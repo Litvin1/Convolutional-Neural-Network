{
  "nbformat": 4,
  "nbformat_minor": 0,
  "metadata": {
    "accelerator": "GPU",
    "colab": {
      "name": "images_project.ipynb",
      "provenance": [],
      "collapsed_sections": []
    },
    "kernelspec": {
      "display_name": "Python 3",
      "language": "python",
      "name": "python3"
    },
    "language_info": {
      "codemirror_mode": {
        "name": "ipython",
        "version": 3
      },
      "file_extension": ".py",
      "mimetype": "text/x-python",
      "name": "python",
      "nbconvert_exporter": "python",
      "pygments_lexer": "ipython3",
      "version": "3.8.5"
    }
  },
  "cells": [
    {
      "cell_type": "markdown",
      "metadata": {
        "id": "jVsGNKr5CgSA"
      },
      "source": [
        "Imports"
      ]
    },
    {
      "cell_type": "code",
      "metadata": {
        "colab": {
          "base_uri": "https://localhost:8080/"
        },
        "id": "jAENHJojpyAJ",
        "outputId": "c204f63f-4a60-47fd-c829-341122233195"
      },
      "source": [
        "from google.colab import drive\n",
        "drive.mount('/content/drive')"
      ],
      "execution_count": null,
      "outputs": [
        {
          "output_type": "stream",
          "text": [
            "Mounted at /content/drive\n"
          ],
          "name": "stdout"
        }
      ]
    },
    {
      "cell_type": "code",
      "metadata": {
        "colab": {
          "base_uri": "https://localhost:8080/"
        },
        "id": "yNWJRCUnCXoB",
        "outputId": "84242bd7-d9a4-40d6-b3ea-49f6a5872585"
      },
      "source": [
        "import pandas as pd\n",
        "import numpy as np # import cupy when running on gpu\n",
        "import os\n",
        "from skimage import io\n",
        "import matplotlib.pyplot as plt\n",
        "import torch\n",
        "from torch.utils.data import TensorDataset, DataLoader\n",
        "from torch import nn, optim\n",
        "import torch.nn.functional as F\n",
        "!pip install torchinfo\n",
        "from torchinfo import summary\n",
        "from sklearn.model_selection import train_test_split\n",
        "from sklearn.linear_model import Perceptron\n",
        "import functools\n",
        "import itertools\n",
        "import numpy\n",
        "import operator\n",
        "import cv2\n",
        "import time\n",
        "from sklearn.metrics import confusion_matrix\n",
        "from sklearn.model_selection import KFold\n",
        "from sklearn.model_selection import StratifiedKFold"
      ],
      "execution_count": null,
      "outputs": [
        {
          "output_type": "stream",
          "text": [
            "Requirement already satisfied: torchinfo in /usr/local/lib/python3.7/dist-packages (1.5.3)\n"
          ],
          "name": "stdout"
        }
      ]
    },
    {
      "cell_type": "markdown",
      "metadata": {
        "id": "jZW4w8ssT5g5"
      },
      "source": [
        "Consts"
      ]
    },
    {
      "cell_type": "code",
      "metadata": {
        "id": "fxtzZPukT60t",
        "colab": {
          "base_uri": "https://localhost:8080/"
        },
        "outputId": "b7a37ea9-45c0-4204-ae87-107f393077a8"
      },
      "source": [
        "device = 'cuda' if torch.cuda.is_available() else 'cpu'\n",
        "print(device)\n",
        "NUM_IMAGES = 6334\n",
        "NUM_EPOCHS = 40\n",
        "BATCH_SIZE = 128\n",
        "LEARNING_RATE = 0.01\n",
        "OUTPUT_DIM = 3\n",
        "IMG_SIZE = 224\n",
        "NUM_FOLDS = 5\n",
        "#PADDING_SIZE = ?"
      ],
      "execution_count": null,
      "outputs": [
        {
          "output_type": "stream",
          "text": [
            "cuda\n"
          ],
          "name": "stdout"
        }
      ]
    },
    {
      "cell_type": "markdown",
      "metadata": {
        "id": "hrtnQn-lCjP6"
      },
      "source": [
        "Functions"
      ]
    },
    {
      "cell_type": "code",
      "metadata": {
        "id": "JGsKkV2ZnNuo"
      },
      "source": [
        "def plot_measure(results_train, results_val, measure, output_dir):\n",
        "    plt.rcParams[\"figure.figsize\"] = (8,8)\n",
        "    plt.plot(results_train)\n",
        "    plt.plot(results_val)\n",
        "    plt.xlim(-0.2)\n",
        "    plt.xlabel('Epochs')\n",
        "    plt.ylabel(measure)\n",
        "    if measure == 'acc':\n",
        "        plt.legend(['Train', 'Validation'], loc='upper left')\n",
        "    if measure == 'loss':\n",
        "        plt.legend(['Train', 'Validation'], loc='upper right')\n",
        "    plt.title(measure)\n",
        "    #plt.savefig(f'{output_dir}{measure}.jpeg')\n",
        "    plt.show()\n",
        "    plt.close()"
      ],
      "execution_count": null,
      "outputs": []
    },
    {
      "cell_type": "code",
      "metadata": {
        "colab": {
          "base_uri": "https://localhost:8080/"
        },
        "id": "ASi1VvMmCa0T",
        "outputId": "a891f850-29ab-49f5-c15c-7236bd434809"
      },
      "source": [
        "def load_images_from_folder(path, num_images):\n",
        "    \"\"\"\n",
        "    returns list of tuples of shape: num_images x (image_name, img_arr) \n",
        "    params: \n",
        "        path = folder path of the images\n",
        "        num_images = number of images to load\n",
        "    \"\"\"\n",
        "    images_rep = np.zeros(shape=(NUM_IMAGES, IMG_SIZE, IMG_SIZE))\n",
        "    images_name = [0 for i in range(NUM_IMAGES)]\n",
        "    for i, filename in enumerate(os.listdir(path)):\n",
        "        if i%500==0:\n",
        "            print(i)\n",
        "        # filename structure is: <studyinstanceuid>_<some text>_<imageinstanceuid>.jpg\n",
        "        img_name = filename.split('_')[2].split('.')[0]\n",
        "        if i==num_images:\n",
        "            break\n",
        "        #img = np.array(io.imread(os.path.join(path,filename)) > 125).astype(int) # black & white norm\n",
        "        img = np.array(io.imread(os.path.join(path,filename))) #/ 255 # regular norm\n",
        "        if img is not None:\n",
        "            images_rep[i] = img\n",
        "            images_name[i] = img_name\n",
        "    return images_rep, images_name\n",
        "\n",
        "images_rep, images_name = load_images_from_folder('/content/drive/MyDrive/images/final project/224px/train/train', NUM_IMAGES)"
      ],
      "execution_count": null,
      "outputs": [
        {
          "output_type": "stream",
          "text": [
            "0\n",
            "500\n",
            "1000\n",
            "1500\n",
            "2000\n",
            "2500\n",
            "3000\n",
            "3500\n",
            "4000\n",
            "4500\n",
            "5000\n",
            "5500\n",
            "6000\n"
          ],
          "name": "stdout"
        }
      ]
    },
    {
      "cell_type": "code",
      "metadata": {
        "id": "8D3j5XR8D7Lj",
        "colab": {
          "base_uri": "https://localhost:8080/",
          "height": 399
        },
        "outputId": "5a9acf9b-7817-44c5-bbfa-a054150e5389"
      },
      "source": [
        "print(images_rep[0])\n",
        "plt.imshow(images_rep[0], cmap='gray')\n",
        "plt.show()"
      ],
      "execution_count": null,
      "outputs": [
        {
          "output_type": "stream",
          "text": [
            "[[ 48.  37.  22. ...  88. 102. 124.]\n",
            " [ 19.  13.   4. ...  50.  63.  81.]\n",
            " [  2.   0.   0. ...  11.  18.  30.]\n",
            " ...\n",
            " [ 45.  28.   8. ...  10.  13.  15.]\n",
            " [ 46.  34.  18. ...  31.  33.  35.]\n",
            " [ 58.  49.  35. ...  58.  60.  62.]]\n"
          ],
          "name": "stdout"
        },
        {
          "output_type": "display_data",
          "data": {
            "image/png": "[encoded data removed]",
            "text/plain": [
              "<Figure size 432x288 with 1 Axes>"
            ]
          },
          "metadata": {
            "tags": [],
            "needs_background": "light"
          }
        }
      ]
    },
    {
      "cell_type": "code",
      "metadata": {
        "colab": {
          "base_uri": "https://localhost:8080/"
        },
        "id": "0nSqfTqNIR78",
        "outputId": "51c3cd8e-0fcf-426e-e049-d1564c9ebffd"
      },
      "source": [
        "train_excel = pd.read_csv('/content/drive/MyDrive/images/final project/train.csv')#, sep='\\t')\n",
        "print(train_excel.iloc[3, 3])\n",
        "train_excel = train_excel.replace(to_replace=3, value=2)\n",
        "print(train_excel.iloc[3, 3])\n",
        "\n",
        "x = np.array(train_excel['study_label'])\n",
        "img_name_to_label = pd.Series(data=x, index=train_excel['ImageInstanceUID'])\n",
        "\n",
        "labels = [0 for i in range(NUM_IMAGES)]\n",
        "for i in range(NUM_IMAGES):\n",
        "    labels[i] = img_name_to_label[images_name[i]]\n",
        "\n",
        "print(images_rep.shape)\n",
        "X_percp = images_rep.reshape((6334, 50176))\n",
        "print(X_percp.shape)"
      ],
      "execution_count": null,
      "outputs": [
        {
          "output_type": "stream",
          "text": [
            "3\n",
            "2\n",
            "(6334, 224, 224)\n",
            "(6334, 50176)\n"
          ],
          "name": "stdout"
        }
      ]
    },
    {
      "cell_type": "code",
      "metadata": {
        "colab": {
          "base_uri": "https://localhost:8080/"
        },
        "id": "XmHswiwQwxi4",
        "outputId": "245879e8-2678-4366-9f59-76f925a22615"
      },
      "source": [
        "# reshaping for perceptron input\n",
        "perceptron = Perceptron()\n",
        "perceptron.fit(X_percp, labels)\n",
        "perceptron.score(X_percp, labels)"
      ],
      "execution_count": null,
      "outputs": [
        {
          "output_type": "execute_result",
          "data": {
            "text/plain": [
              "Perceptron(alpha=0.0001, class_weight=None, early_stopping=False, eta0=1.0,\n",
              "           fit_intercept=True, max_iter=1000, n_iter_no_change=5, n_jobs=None,\n",
              "           penalty=None, random_state=0, shuffle=True, tol=0.001,\n",
              "           validation_fraction=0.1, verbose=0, warm_start=False)"
            ]
          },
          "metadata": {
            "tags": []
          },
          "execution_count": 15
        }
      ]
    },
    {
      "cell_type": "code",
      "metadata": {
        "colab": {
          "base_uri": "https://localhost:8080/",
          "height": 83
        },
        "id": "zf-TddF_Sq1O",
        "outputId": "79d81162-a6f0-4a8a-bdfb-9e4f6ddc8df7"
      },
      "source": [
        "\n",
        "\"\"\"\n",
        "X_train, X_val, y_train, y_val = train_test_split(tensor_images, labels, test_size=0.2, random_state=42)\n",
        "del tensor_images\n",
        "del labels\n",
        "\n",
        "train_dataset = TensorDataset(X_train, y_train)\n",
        "del X_train\n",
        "del y_train\n",
        "train_loader = DataLoader(dataset=train_dataset, batch_size=BATCH_SIZE, shuffle=True, drop_last=True)\n",
        "del train_dataset\n",
        "\n",
        "val_dataset = TensorDataset(X_val, y_val)\n",
        "del X_val\n",
        "del y_val\n",
        "val_loader = DataLoader(dataset=val_dataset, batch_size=BATCH_SIZE, shuffle=True, drop_last=True)\n",
        "del val_dataset\n",
        "\"\"\""
      ],
      "execution_count": null,
      "outputs": [
        {
          "output_type": "execute_result",
          "data": {
            "text/plain": [
              "'\\nX_train, X_val, y_train, y_val = train_test_split(tensor_images, labels, test_size=0.2, random_state=42)\\ndel tensor_images\\ndel labels\\n\\ntrain_dataset = TensorDataset(X_train, y_train)\\ndel X_train\\ndel y_train\\ntrain_loader = DataLoader(dataset=train_dataset, batch_size=BATCH_SIZE, shuffle=True, drop_last=True)\\ndel train_dataset\\n\\nval_dataset = TensorDataset(X_val, y_val)\\ndel X_val\\ndel y_val\\nval_loader = DataLoader(dataset=val_dataset, batch_size=BATCH_SIZE, shuffle=True, drop_last=True)\\ndel val_dataset\\n'"
            ]
          },
          "metadata": {
            "tags": []
          },
          "execution_count": 7
        }
      ]
    },
    {
      "cell_type": "code",
      "metadata": {
        "id": "OAQVA7x1nNzi",
        "outputId": "9b1670b9-28ea-4d96-b374-2135d522df30"
      },
      "source": [
        "class AlexNet(nn.Module):\n",
        "    def __init__(self, num_classes):\n",
        "        super(AlexNet, self).__init__()\n",
        "        self.features = nn.Sequential(\n",
        "            nn.Conv2d(1, 64, kernel_size=11, stride=4, padding=2),\n",
        "            nn.ReLU(inplace=True),\n",
        "            nn.MaxPool2d(kernel_size=3, stride=2),\n",
        "            nn.Conv2d(64, 192, kernel_size=5, padding=2),\n",
        "            nn.ReLU(inplace=True),\n",
        "            nn.MaxPool2d(kernel_size=3, stride=2),\n",
        "            nn.Conv2d(192, 384, kernel_size=3, padding=1),\n",
        "            nn.ReLU(inplace=True),\n",
        "            nn.Conv2d(384, 256, kernel_size=3, padding=1),\n",
        "            nn.ReLU(inplace=True),\n",
        "            nn.Conv2d(256, 256, kernel_size=3, padding=1),\n",
        "            nn.ReLU(inplace=True),\n",
        "            nn.MaxPool2d(kernel_size=3, stride=2),\n",
        "        )\n",
        "        self.avgpool = nn.AdaptiveAvgPool2d((6, 6))\n",
        "        self.classifier = nn.Sequential(\n",
        "            nn.Dropout(),\n",
        "            nn.Linear(256 * 6 * 6, 4096),\n",
        "            nn.ReLU(inplace=True),\n",
        "            nn.Dropout(),\n",
        "            nn.Linear(4096, 4096),\n",
        "            nn.ReLU(inplace=True),\n",
        "            nn.Linear(4096, num_classes),\n",
        "        )\n",
        "\n",
        "    def forward(self, x: torch.Tensor) -> torch.Tensor:\n",
        "        x = self.features(x)\n",
        "        x = self.avgpool(x)\n",
        "        x = torch.flatten(x, 1)\n",
        "        x = self.classifier(x)\n",
        "        return x\n",
        "    \n",
        "my_model = AlexNet(3)\n",
        "print(summary(my_model))\n",
        "print(my_model)"
      ],
      "execution_count": null,
      "outputs": [
        {
          "output_type": "stream",
          "text": [
            "=================================================================\n",
            "Layer (type:depth-idx)                   Param #\n",
            "=================================================================\n",
            "AlexNet                                  --\n",
            "├─Sequential: 1-1                        --\n",
            "│    └─Conv2d: 2-1                       7,808\n",
            "│    └─ReLU: 2-2                         --\n",
            "│    └─MaxPool2d: 2-3                    --\n",
            "│    └─Conv2d: 2-4                       307,392\n",
            "│    └─ReLU: 2-5                         --\n",
            "│    └─MaxPool2d: 2-6                    --\n",
            "│    └─Conv2d: 2-7                       663,936\n",
            "│    └─ReLU: 2-8                         --\n",
            "│    └─Conv2d: 2-9                       884,992\n",
            "│    └─ReLU: 2-10                        --\n",
            "│    └─Conv2d: 2-11                      590,080\n",
            "│    └─ReLU: 2-12                        --\n",
            "│    └─MaxPool2d: 2-13                   --\n",
            "├─AdaptiveAvgPool2d: 1-2                 --\n",
            "├─Sequential: 1-3                        --\n",
            "│    └─Dropout: 2-14                     --\n",
            "│    └─Linear: 2-15                      37,752,832\n",
            "│    └─ReLU: 2-16                        --\n",
            "│    └─Dropout: 2-17                     --\n",
            "│    └─Linear: 2-18                      16,781,312\n",
            "│    └─ReLU: 2-19                        --\n",
            "│    └─Linear: 2-20                      12,291\n",
            "=================================================================\n",
            "Total params: 57,000,643\n",
            "Trainable params: 57,000,643\n",
            "Non-trainable params: 0\n",
            "=================================================================\n",
            "AlexNet(\n",
            "  (features): Sequential(\n",
            "    (0): Conv2d(1, 64, kernel_size=(11, 11), stride=(4, 4), padding=(2, 2))\n",
            "    (1): ReLU(inplace=True)\n",
            "    (2): MaxPool2d(kernel_size=3, stride=2, padding=0, dilation=1, ceil_mode=False)\n",
            "    (3): Conv2d(64, 192, kernel_size=(5, 5), stride=(1, 1), padding=(2, 2))\n",
            "    (4): ReLU(inplace=True)\n",
            "    (5): MaxPool2d(kernel_size=3, stride=2, padding=0, dilation=1, ceil_mode=False)\n",
            "    (6): Conv2d(192, 384, kernel_size=(3, 3), stride=(1, 1), padding=(1, 1))\n",
            "    (7): ReLU(inplace=True)\n",
            "    (8): Conv2d(384, 256, kernel_size=(3, 3), stride=(1, 1), padding=(1, 1))\n",
            "    (9): ReLU(inplace=True)\n",
            "    (10): Conv2d(256, 256, kernel_size=(3, 3), stride=(1, 1), padding=(1, 1))\n",
            "    (11): ReLU(inplace=True)\n",
            "    (12): MaxPool2d(kernel_size=3, stride=2, padding=0, dilation=1, ceil_mode=False)\n",
            "  )\n",
            "  (avgpool): AdaptiveAvgPool2d(output_size=(6, 6))\n",
            "  (classifier): Sequential(\n",
            "    (0): Dropout(p=0.5, inplace=False)\n",
            "    (1): Linear(in_features=9216, out_features=4096, bias=True)\n",
            "    (2): ReLU(inplace=True)\n",
            "    (3): Dropout(p=0.5, inplace=False)\n",
            "    (4): Linear(in_features=4096, out_features=4096, bias=True)\n",
            "    (5): ReLU(inplace=True)\n",
            "    (6): Linear(in_features=4096, out_features=3, bias=True)\n",
            "  )\n",
            ")\n"
          ],
          "name": "stdout"
        }
      ]
    },
    {
      "cell_type": "code",
      "metadata": {
        "colab": {
          "base_uri": "https://localhost:8080/",
          "height": 1000
        },
        "id": "f7Uu6bUCsPxa",
        "outputId": "a2e21d19-86ae-42bd-e52c-396e96f0f7a9"
      },
      "source": [
        "#handeling the imbalanced problem\n",
        "weights = torch.tensor([1736, 3007, 1491], dtype=torch.float32).cuda()\n",
        "weights = weights / weights.sum()\n",
        "#print(weights)\n",
        "weights = 1.0 / weights\n",
        "weights = weights / weights.sum()\n",
        "#print(weights)\n",
        "\n",
        "criterion = nn.CrossEntropyLoss(weight=weights)\n",
        "#criterion = nn.CrossEntropyLoss()\n",
        "#my_model.apply(initialize_weights)\n",
        "\n",
        "train_acc = np.zeros(shape=(NUM_FOLDS, NUM_EPOCHS))\n",
        "train_loss = np.zeros(shape=(NUM_FOLDS, NUM_EPOCHS))\n",
        "val_acc = np.zeros(shape=(NUM_FOLDS, NUM_EPOCHS))\n",
        "val_loss = np.zeros(shape=(NUM_FOLDS, NUM_EPOCHS))\n",
        "times_folds = []\n",
        "confusion_matrices = []\n",
        "\n",
        "tensor_images = torch.from_numpy(images_rep)\n",
        "tensor_images = tensor_images.view(tensor_images.shape[0], 1, IMG_SIZE, IMG_SIZE).float()\n",
        "print(tensor_images.shape)\n",
        "print()\n",
        "labels = torch.tensor(labels)\n",
        "\n",
        "skf = StratifiedKFold(n_splits=5, random_state=40, shuffle=True)\n",
        "for i, (train_index, test_index) in enumerate(skf.split(tensor_images, labels)):\n",
        "    print(f'fold num: {i+1}')\n",
        "    #print(\"TRAIN:\", train_index, \"Val:\", test_index)\n",
        "    print()\n",
        "    \n",
        "    X_train, X_val = tensor_images[train_index], tensor_images[test_index]\n",
        "    y_train, y_val = labels[train_index], labels[test_index]\n",
        "    \n",
        "    print(np.array(torch.bincount(y_train))/len(y_train))\n",
        "    print(np.array(torch.bincount(y_val))/len(y_val))\n",
        "    \n",
        "    train_dataset = TensorDataset(X_train, y_train)\n",
        "    del X_train\n",
        "    del y_train\n",
        "    train_loader = DataLoader(dataset=train_dataset, batch_size=BATCH_SIZE, shuffle=True, drop_last=True)\n",
        "    del train_dataset\n",
        "    \n",
        "    val_dataset = TensorDataset(X_val, y_val)\n",
        "    del X_val\n",
        "    del y_val\n",
        "    val_loader = DataLoader(dataset=val_dataset, batch_size=BATCH_SIZE, shuffle=True, drop_last=True)\n",
        "    del val_dataset\n",
        "    \n",
        "    my_model=AlexNet(3)\n",
        "    optimizer = optim.SGD(my_model.parameters(), lr=LEARNING_RATE, momentum=0.9, weight_decay=0.0005)\n",
        "    my_model.to(device)\n",
        "    \n",
        "    y_true = []\n",
        "    y_pred = []\n",
        "    \n",
        "    t = time.time()\n",
        "    for epoch in range(NUM_EPOCHS):\n",
        "        my_model.train()\n",
        "        running_loss = 0.0\n",
        "        correct = 0\n",
        "        print(f'epoch: {epoch+1}')\n",
        "        for batch_num, (inputs, label) in enumerate(train_loader, start=1):\n",
        "            #print(batch_num)\n",
        "            inputs, label = inputs.to(device), label.to(device)\n",
        "            optimizer.zero_grad()\n",
        "            output = my_model(inputs)\n",
        "            #break\n",
        "            #print(output)\n",
        "            loss = criterion(output, label)\n",
        "            loss.backward()\n",
        "            optimizer.step()\n",
        "            running_loss += loss.item()\n",
        "            outputs_max_inds = torch.argmax(output, axis=1)\n",
        "            #print(outputs_max_inds)\n",
        "            #print(label)\n",
        "            correct += torch.sum(torch.eq(outputs_max_inds, label))\n",
        "        #break\n",
        "        acc = 100*(correct.item()/len(train_loader.dataset))\n",
        "        loss = running_loss/batch_num\n",
        "        train_acc[i, epoch] = acc\n",
        "        train_loss[i, epoch] = loss\n",
        "        print(f\"Train loss: {loss:.3f}, Train accuracy: {acc:.3f}%\")\n",
        "        my_model.eval()\n",
        "        running_loss = 0.0\n",
        "        correct = 0\n",
        "        for batch_num, (inputs, label) in enumerate(val_loader, start=1):\n",
        "            inputs, label = inputs.to(device), label.to(device)\n",
        "            output = my_model(inputs)\n",
        "            outputs_max_inds = torch.argmax(output, axis=1)\n",
        "            if epoch + 1 == NUM_EPOCHS:\n",
        "                for elem in label:\n",
        "                    y_true.append(elem.item())\n",
        "                for elem in outputs_max_inds:\n",
        "                    y_pred.append(elem.item())\n",
        "            loss = criterion(output, label)\n",
        "            running_loss += loss.item()\n",
        "            correct += torch.sum(torch.eq(outputs_max_inds, label))\n",
        "        acc = 100*(correct.item()/len(val_loader.dataset))\n",
        "        loss = running_loss/batch_num\n",
        "        val_acc[i, epoch] = acc\n",
        "        val_loss[i, epoch] = loss\n",
        "        print(f\"Val loss: {loss:.3f}, Val accuracy: {acc:.3f}%\")\n",
        "    train_time = (time.time() - t) / 60\n",
        "    times_folds.append(train_time)\n",
        "    confusion_matrices.append(confusion_matrix(y_true, y_pred, labels=[0, 1, 2]))\n",
        "    print()\n",
        "\n",
        "print(f'training took: {np.mean(times_folds)} mintues \\n\\n')\n",
        "avg_train_acc = np.mean(train_acc, axis=0)\n",
        "avg_val_acc = np.mean(val_acc, axis=0)\n",
        "print(f'train acc is: {avg_train_acc[-1]}\\n')\n",
        "print(f'val acc is: {avg_val_acc[-1]}\\n')\n",
        "plot_measure(avg_train_acc, avg_val_acc, 'acc', \"\")\n",
        "print('\\n\\n')\n",
        "avg_train_loss = np.mean(train_loss, axis=0)\n",
        "avg_val_loss = np.mean(val_loss, axis=0)\n",
        "print(f'train loss is: {avg_train_loss[-1]}\\n')\n",
        "print(f'val loss is: {avg_val_loss[-1]}\\n')\n",
        "plot_measure(avg_train_loss, avg_val_loss, 'loss', \"\")\n",
        "print('\\n\\n')\n",
        "print(np.mean(confusion_matrices, axis=0).astype(int))"
      ],
      "execution_count": null,
      "outputs": [
        {
          "output_type": "stream",
          "text": [
            "torch.Size([6334, 1, 224, 224])\n",
            "\n",
            "fold num: 1\n",
            "\n",
            "[0.2741267  0.47463983 0.25123347]\n",
            "[0.2738753  0.47513812 0.25098658]\n",
            "epoch: 1\n",
            "Train loss: 1.118, Train accuracy: 31.064%\n",
            "Val loss: 1.100, Val accuracy: 43.567%\n",
            "epoch: 2\n",
            "Train loss: 1.089, Train accuracy: 33.235%\n",
            "Val loss: 1.064, Val accuracy: 44.830%\n",
            "epoch: 3\n",
            "Train loss: 1.062, Train accuracy: 44.247%\n",
            "Val loss: 1.071, Val accuracy: 45.146%\n",
            "epoch: 4\n",
            "Train loss: 1.051, Train accuracy: 45.313%\n",
            "Val loss: 1.053, Val accuracy: 44.594%\n",
            "epoch: 5\n",
            "Train loss: 1.032, Train accuracy: 48.845%\n",
            "Val loss: 1.028, Val accuracy: 44.041%\n",
            "epoch: 6\n",
            "Train loss: 1.013, Train accuracy: 50.128%\n",
            "Val loss: 1.059, Val accuracy: 47.830%\n",
            "epoch: 7\n",
            "Train loss: 1.019, Train accuracy: 48.806%\n",
            "Val loss: 1.030, Val accuracy: 46.725%\n",
            "epoch: 8\n",
            "Train loss: 1.003, Train accuracy: 50.641%\n",
            "Val loss: 1.020, Val accuracy: 49.487%\n",
            "epoch: 9\n",
            "Train loss: 0.983, Train accuracy: 51.964%\n",
            "Val loss: 1.004, Val accuracy: 50.276%\n",
            "epoch: 10\n",
            "Train loss: 0.971, Train accuracy: 53.345%\n",
            "Val loss: 0.998, Val accuracy: 49.171%\n",
            "epoch: 11\n",
            "Train loss: 0.958, Train accuracy: 53.621%\n",
            "Val loss: 0.984, Val accuracy: 51.381%\n",
            "epoch: 12\n",
            "Train loss: 0.965, Train accuracy: 53.661%\n",
            "Val loss: 1.052, Val accuracy: 47.908%\n",
            "epoch: 13\n",
            "Train loss: 0.956, Train accuracy: 53.621%\n",
            "Val loss: 1.006, Val accuracy: 48.224%\n",
            "epoch: 14\n",
            "Train loss: 0.958, Train accuracy: 53.148%\n",
            "Val loss: 1.004, Val accuracy: 49.961%\n",
            "epoch: 15\n",
            "Train loss: 0.946, Train accuracy: 53.937%\n",
            "Val loss: 0.979, Val accuracy: 49.408%\n",
            "epoch: 16\n",
            "Train loss: 0.932, Train accuracy: 53.799%\n",
            "Val loss: 0.987, Val accuracy: 50.039%\n",
            "epoch: 17\n",
            "Train loss: 0.918, Train accuracy: 56.562%\n",
            "Val loss: 0.993, Val accuracy: 47.514%\n",
            "epoch: 18\n",
            "Train loss: 0.947, Train accuracy: 52.556%\n",
            "Val loss: 1.011, Val accuracy: 46.014%\n",
            "epoch: 19\n",
            "Train loss: 0.948, Train accuracy: 53.799%\n",
            "Val loss: 1.044, Val accuracy: 44.830%\n",
            "epoch: 20\n",
            "Train loss: 0.910, Train accuracy: 55.516%\n",
            "Val loss: 1.031, Val accuracy: 50.355%\n",
            "epoch: 21\n",
            "Train loss: 0.928, Train accuracy: 54.391%\n",
            "Val loss: 1.013, Val accuracy: 46.803%\n",
            "epoch: 22\n",
            "Train loss: 0.914, Train accuracy: 56.523%\n",
            "Val loss: 0.989, Val accuracy: 46.330%\n",
            "epoch: 23\n",
            "Train loss: 0.899, Train accuracy: 55.102%\n",
            "Val loss: 1.004, Val accuracy: 45.541%\n",
            "epoch: 24\n",
            "Train loss: 0.902, Train accuracy: 55.240%\n",
            "Val loss: 1.033, Val accuracy: 50.829%\n",
            "epoch: 25\n",
            "Train loss: 0.881, Train accuracy: 57.233%\n",
            "Val loss: 1.025, Val accuracy: 50.750%\n",
            "epoch: 26\n",
            "Train loss: 0.871, Train accuracy: 58.575%\n",
            "Val loss: 0.987, Val accuracy: 47.751%\n",
            "epoch: 27\n",
            "Train loss: 0.863, Train accuracy: 57.174%\n",
            "Val loss: 1.021, Val accuracy: 49.408%\n",
            "epoch: 28\n",
            "Train loss: 0.861, Train accuracy: 58.319%\n",
            "Val loss: 0.997, Val accuracy: 50.276%\n",
            "epoch: 29\n",
            "Train loss: 0.863, Train accuracy: 57.134%\n",
            "Val loss: 0.975, Val accuracy: 50.592%\n",
            "epoch: 30\n",
            "Train loss: 0.839, Train accuracy: 58.733%\n",
            "Val loss: 1.017, Val accuracy: 47.356%\n",
            "epoch: 31\n",
            "Train loss: 0.836, Train accuracy: 59.266%\n",
            "Val loss: 1.016, Val accuracy: 46.725%\n",
            "epoch: 32\n",
            "Train loss: 0.813, Train accuracy: 60.884%\n",
            "Val loss: 1.119, Val accuracy: 48.777%\n",
            "epoch: 33\n",
            "Train loss: 0.822, Train accuracy: 58.851%\n",
            "Val loss: 1.029, Val accuracy: 49.408%\n",
            "epoch: 34\n",
            "Train loss: 0.785, Train accuracy: 61.614%\n",
            "Val loss: 1.028, Val accuracy: 46.646%\n",
            "epoch: 35\n",
            "Train loss: 0.798, Train accuracy: 62.108%\n",
            "Val loss: 1.007, Val accuracy: 48.461%\n",
            "epoch: 36\n",
            "Train loss: 0.799, Train accuracy: 60.568%\n",
            "Val loss: 1.024, Val accuracy: 46.093%\n",
            "epoch: 37\n",
            "Train loss: 0.770, Train accuracy: 63.272%\n",
            "Val loss: 1.132, Val accuracy: 46.961%\n",
            "epoch: 38\n",
            "Train loss: 0.750, Train accuracy: 64.733%\n",
            "Val loss: 1.210, Val accuracy: 47.119%\n",
            "epoch: 39\n",
            "Train loss: 0.755, Train accuracy: 63.667%\n",
            "Val loss: 1.106, Val accuracy: 47.277%\n",
            "epoch: 40\n",
            "Train loss: 0.767, Train accuracy: 63.331%\n",
            "Val loss: 1.114, Val accuracy: 49.013%\n",
            "\n",
            "fold num: 2\n",
            "\n",
            "[0.2741267  0.47463983 0.25123347]\n",
            "[0.2738753  0.47513812 0.25098658]\n",
            "epoch: 1\n",
            "Train loss: 1.112, Train accuracy: 27.413%\n"
          ],
          "name": "stdout"
        }
      ]
    },
    {
      "cell_type": "code",
      "metadata": {
        "id": "JyjggEzIU1z2"
      },
      "source": [
        "\"\"\"\n",
        "class cnn_network(nn.Module):\n",
        "    def __init__(self, max_pool_out_dim, hidden_dim, output_dim):\n",
        "        super(cnn_network, self).__init__()\n",
        "        self.cnn_layer1 = nn.Conv2d(1, 96, kernel_size=11, stride=4)\n",
        "        self.max_pool_layer1 = nn.MaxPool2d(kernel_size=3, stride=2)\n",
        "        \n",
        "        self.cnn_layer2 = nn.Conv2d(96, 16, kernel_size=8, stride=2)\n",
        "\n",
        "        self.cnn_layer3 = nn.Conv2d(16, 1, kernel_size=4, stride=1)\n",
        "        #\n",
        "        \n",
        "        #self.cnn_layer4 = nn.Conv2d(64, 128, kernel_size=2, stride=2)\n",
        "\n",
        "        #self.cnn_layer5 = nn.Conv2d(128, 4, kernel_size=2, stride=2)\n",
        "        #self.max_pool_layer4 = nn.MaxPool2d(kernel_size=2, stride=2)\n",
        "\n",
        "\n",
        "        self.linear1 = nn.Linear(64, 32)\n",
        "        self.linear2 = nn.Linear(32, 16)\n",
        "        #self.linear3 = nn.Linear(256, 128)\n",
        "        #self.linear4 = nn.Linear(128, 64)\n",
        "        #self.linear5 = nn.Linear(64, 32)\n",
        "        self.linear6 = nn.Linear(16, output_dim)\n",
        "        self.act6 = nn.Softmax(dim=1)\n",
        "        \n",
        "        self.dropout = nn.Dropout(0.5)\n",
        "\n",
        "\n",
        "    def forward(self, x):\n",
        "        #print(x.shape)\n",
        "        x = F.relu(self.cnn_layer1(x))\n",
        "        #print(x.shape) \n",
        "        #x = F.max_pool2d(x, 2, stride=2)\n",
        "        #print(x.shape)\n",
        "        #x = F.max_pool2d(F.relu(self.cnn_layer2(x)), 2)\n",
        "        x = F.relu(self.cnn_layer2(x))\n",
        "        #x = F.max_pool2d(x, 4, stride=4)\n",
        "        #print(x.shape)\n",
        "        #x = self.max_pool_layer3(x)\n",
        "        #print(x.shape)\n",
        "        x = F.relu(self.cnn_layer3(x))\n",
        "        #print(x.shape)\n",
        "        #x = self.max_pool_layer4(x)\n",
        "        #print(x.shape)\n",
        "        #x = F.relu(self.cnn_layer4(x))\n",
        "        #print(x.shape)\n",
        "        #x = F.relu(self.cnn_layer5(x))\n",
        "        #print(x.shape)\n",
        "        x = F.max_pool2d(x, 2, stride=1)\n",
        "        #print(x.shape)\n",
        "        # flatten: 0 = batch_size, 1 = number of channels 2 = width, 3 = height\n",
        "        x = x.view(x.shape[0], x.shape[1]*x.shape[2]*x.shape[3])\n",
        "        #print(x.shape)\n",
        "        x = F.relu(self.linear1(x))\n",
        "        #x = self.dropout(x)\n",
        "        x = F.relu(self.linear2(x))\n",
        "        #x = F.relu(self.linear3(x))\n",
        "        #x = F.relu(self.linear4(x))\n",
        "        #x = F.relu(self.linear5(x))\n",
        "        #x = self.dropout(x)\n",
        "        x = self.act6(self.linear6(x))\n",
        "        #x = torch.softmax(self.linear3(x))\n",
        "        return x\n",
        "\n",
        "def initialize_weights(model):\n",
        "    if type(model) in [nn.Linear]:\n",
        "        nn.init.xavier_uniform_(model.weight)\n",
        "        nn.init.zeros_(model.bias)\n",
        "    #elif type(model) in [nn.Conv2d]:\n",
        "        \n",
        "        \n",
        "my_model = cnn_network(16*16*128, 32, 3)\n",
        "print(summary(my_model))\n",
        "#my_model.apply(initialize_weights)\n",
        "\"\"\""
      ],
      "execution_count": null,
      "outputs": []
    },
    {
      "cell_type": "markdown",
      "metadata": {
        "id": "sGYhI_k32a-f"
      },
      "source": [
        "Debugging"
      ]
    },
    {
      "cell_type": "code",
      "metadata": {
        "id": "AYV6MuRRXnvm"
      },
      "source": [
        "\"\"\"\n",
        "# NOT OUR CODE\n",
        "my_model = cnn_network(45*45, 64, 4)\n",
        "print(my_model)\n",
        "optimizer = optim.Adam(my_model.parameters(), lr=LEARNING_RATE, eps=1e-07)\n",
        "criterion = nn.CrossEntropyLoss()\n",
        "my_model.train()\n",
        "my_model.to(device)\n",
        "for epoch in range(EPOCHS):\n",
        "    outputs = []\n",
        "    labels = []\n",
        "    running_loss = 0.0\n",
        "    correct = 0\n",
        "    print(epoch)\n",
        "    for batch_num, (inputs, label) in enumerate(data, start=1):\n",
        "        print(batch_num)\n",
        "        inputs, label = inputs.to(device), label.to(device)\n",
        "        optimizer.zero_grad()\n",
        "        output = my_model(inputs)\n",
        "        for elem in label:\n",
        "            labels.append(elem.item())\n",
        "        #loss = criterion(output, label.view(BATCH_SIZE,-1))\n",
        "        loss = criterion(output, label)\n",
        "        loss.backward()\n",
        "        optimizer.step()\n",
        "        running_loss += loss.item()\n",
        "        outputs_max_inds = torch.argmax(output, axis=1)\n",
        "        correct += (torch.sum(outputs_max_inds == labels))\n",
        "        print(correct)\n",
        "    tn, fp, fn, tp = confusion_matrix(labels, outputs).ravel()\n",
        "    acc = 100*correct/(len(data.dataset))\n",
        "    loss = running_loss\n",
        "    print(f\"epoch num: {epoch} - Train loss: {loss:.3f}, Train accuracy: {acc:.3f}%\")\n",
        "    fpr, tpr, thresholds = metrics.roc_curve(labels, outputs)\n",
        "    auc = metrics.auc(fpr, tpr)\n",
        "    print(auc)\n",
        "    plot_roc(tpr,fpr)\n",
        "\"\"\""
      ],
      "execution_count": null,
      "outputs": []
    }
  ]
}